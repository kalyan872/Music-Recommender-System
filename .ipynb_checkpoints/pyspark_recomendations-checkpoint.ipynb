{
 "cells": [
  {
   "cell_type": "markdown",
   "metadata": {
    "id": "uixRc0XtrHuj"
   },
   "source": [
    "# **WELCOME TO THIS NOTEBOOK**"
   ]
  },
  {
   "cell_type": "code",
   "execution_count": null,
   "metadata": {
    "colab": {
     "base_uri": "https://localhost:8080/"
    },
    "executionInfo": {
     "elapsed": 26671,
     "status": "ok",
     "timestamp": 1669210950139,
     "user": {
      "displayName": "Marc Smith",
      "userId": "16647642933336864558"
     },
     "user_tz": 240
    },
    "id": "kNAnhrEonzgi",
    "outputId": "9a9845af-c404-4ae7-c4eb-5138056fe885"
   },
   "outputs": [
    {
     "name": "stdout",
     "output_type": "stream",
     "text": [
      "Mounted at /content/drive\n"
     ]
    }
   ],
   "source": [
    "from google.colab import drive\n",
    "drive.mount('/content/drive')"
   ]
  },
  {
   "cell_type": "markdown",
   "metadata": {
    "id": "hMZ64UxxrMvL"
   },
   "source": [
    "Let's install pyspark"
   ]
  },
  {
   "cell_type": "code",
   "execution_count": null,
   "metadata": {
    "colab": {
     "base_uri": "https://localhost:8080/"
    },
    "executionInfo": {
     "elapsed": 7108,
     "status": "ok",
     "timestamp": 1669217891959,
     "user": {
      "displayName": "Marc Smith",
      "userId": "16647642933336864558"
     },
     "user_tz": 240
    },
    "id": "Dal3Np2Imn8u",
    "outputId": "234c28f9-2f8c-4eb0-930d-2c93940baab7"
   },
   "outputs": [
    {
     "name": "stdout",
     "output_type": "stream",
     "text": [
      "Looking in indexes: https://pypi.org/simple, https://us-python.pkg.dev/colab-wheels/public/simple/\n",
      "Requirement already satisfied: pyspark==3.0 in /usr/local/lib/python3.7/dist-packages (3.0.0)\n",
      "Requirement already satisfied: py4j==0.10.9 in /usr/local/lib/python3.7/dist-packages (from pyspark==3.0) (0.10.9)\n"
     ]
    }
   ],
   "source": [
    "!pip install pyspark==3.0"
   ]
  },
  {
   "cell_type": "markdown",
   "metadata": {
    "id": "eK9D-CNgru_s"
   },
   "source": [
    "Importing the modules"
   ]
  },
  {
   "cell_type": "code",
   "execution_count": null,
   "metadata": {
    "id": "Z_cmzia9nA1W"
   },
   "outputs": [],
   "source": [
    "from pyspark.sql import SparkSession\n",
    "from pyspark.sql.functions import count, desc , col, max\n",
    "from pyspark.ml.feature import  StringIndexer\n",
    "from pyspark.ml import Pipeline\n",
    "from pyspark.ml.recommendation import ALS\n",
    "from pyspark.ml.tuning import TrainValidationSplit, ParamGridBuilder"
   ]
  },
  {
   "cell_type": "markdown",
   "metadata": {
    "id": "pjM5P6b0rVpH"
   },
   "source": [
    "Creating the spark session\n"
   ]
  },
  {
   "cell_type": "code",
   "execution_count": null,
   "metadata": {
    "id": "gvSzI0zMn4Hk"
   },
   "outputs": [],
   "source": [
    "spark = SparkSession.builder.appName(\"lastfm\").getOrCreate()"
   ]
  },
  {
   "cell_type": "markdown",
   "metadata": {
    "id": "KnyYdMVmnkp5"
   },
   "source": [
    "# Loading the dataset"
   ]
  },
  {
   "cell_type": "code",
   "execution_count": null,
   "metadata": {
    "colab": {
     "base_uri": "https://localhost:8080/"
    },
    "executionInfo": {
     "elapsed": 62242,
     "status": "ok",
     "timestamp": 1669217971344,
     "user": {
      "displayName": "Marc Smith",
      "userId": "16647642933336864558"
     },
     "user_tz": 240
    },
    "id": "PywJeVgDngVd",
    "outputId": "4c494ea1-f6e3-441a-afeb-3139d745d0c8"
   },
   "outputs": [
    {
     "name": "stdout",
     "output_type": "stream",
     "text": [
      "+-----------+-------------+--------------------+---------------+--------------------+\n",
      "|    user_id|         date|               track|         artist|               album|\n",
      "+-----------+-------------+--------------------+---------------+--------------------+\n",
      "|000Silenced|1299680100000|           Price Tag|       Jessie J|         Who You Are|\n",
      "|000Silenced|1299679920000|Price Tag (Acoust...|       Jessie J|           Price Tag|\n",
      "|000Silenced|1299679440000|Be Mine! (Ballad ...|          Robyn|            Be Mine!|\n",
      "|000Silenced|1299679200000|            Acapella|          Kelis|            Acapella|\n",
      "|000Silenced|1299675660000|   I'm Not Invisible|      The Tease|   I'm Not Invisible|\n",
      "|000Silenced|1297511400000|Bounce (Feat NORE...|       MSTRKRFT|         Fist of God|\n",
      "|000Silenced|1294498440000|Don't Stop The Mu...|        Rihanna|Addicted 2 Bassli...|\n",
      "|000Silenced|1292438340000|               ObZen|      Meshuggah|               ObZen|\n",
      "|000Silenced|1292437740000|   Yama's Messengers|         Gojira|The Way of All Flesh|\n",
      "|000Silenced|1292436360000|On the Brink of E...|   Napalm Death|Time Waits For No...|\n",
      "|000Silenced|1292436360000|On the Brink of E...|   Napalm Death|Time Waits For No...|\n",
      "|000Silenced|1292435940000|        In Deference|   Napalm Death|      Smear Campaign|\n",
      "|000Silenced|1292434920000|      Post(?)organic|    Decapitated|Organic Hallucinosis|\n",
      "|000Silenced|1292434560000|        Mind Feeders|   Dom & Roland| No Strings Attached|\n",
      "|000Silenced|1292434320000|Necrosadistic War...|Cannibal Corpse|                Kill|\n",
      "|000Silenced|1292365560000|     Dance All Night|   Dom & Roland|          Chronology|\n",
      "|000Silenced|1292365260000|          Late Night|   Dom & Roland|          Chronology|\n",
      "|000Silenced|1292365020000|          Freak Seen|   Dom & Roland|          Chronology|\n",
      "|000Silenced|1292364720000|Paradrenasite (Hi...|   Dom & Roland|          Chronology|\n",
      "|000Silenced|1292364300000|               Rhino|   Dom & Roland|          Chronology|\n",
      "+-----------+-------------+--------------------+---------------+--------------------+\n",
      "only showing top 20 rows\n",
      "\n"
     ]
    }
   ],
   "source": [
    "file_path = '/content/drive/MyDrive/Colab Notebooks/dataset/listenings.csv'\n",
    "df_listenings = spark.read.format('csv').option('header', True).option('inferSchema',True).load(file_path)\n",
    "df_listenings.show()"
   ]
  },
  {
   "cell_type": "code",
   "execution_count": null,
   "metadata": {
    "colab": {
     "base_uri": "https://localhost:8080/"
    },
    "executionInfo": {
     "elapsed": 5477,
     "status": "ok",
     "timestamp": 1666878828012,
     "user": {
      "displayName": "Marc Smith",
      "userId": "16647642933336864558"
     },
     "user_tz": 240
    },
    "id": "zQfE8Y2FtZht",
    "outputId": "35adfdc6-46d9-4a02-eed0-f59da3a131a0"
   },
   "outputs": [
    {
     "name": "stdout",
     "output_type": "stream",
     "text": [
      "Number of rows : 14650594\n"
     ]
    },
    {
     "data": {
      "text/plain": [
       "['user_id', 'date', 'track', 'artist', 'album']"
      ]
     },
     "execution_count": 12,
     "metadata": {},
     "output_type": "execute_result"
    }
   ],
   "source": [
    "rows = df_listenings.count()\n",
    "print(f\"Number of rows : {rows}\")\n",
    "df_listenings.columns"
   ]
  },
  {
   "cell_type": "markdown",
   "metadata": {
    "id": "YUHBP0yjoJvc"
   },
   "source": [
    "\n",
    "# Cleaning tables "
   ]
  },
  {
   "cell_type": "code",
   "execution_count": null,
   "metadata": {
    "colab": {
     "base_uri": "https://localhost:8080/"
    },
    "executionInfo": {
     "elapsed": 237,
     "status": "ok",
     "timestamp": 1669217978747,
     "user": {
      "displayName": "Marc Smith",
      "userId": "16647642933336864558"
     },
     "user_tz": 240
    },
    "id": "UGIv4DLwtBTN",
    "outputId": "38e5abc6-5b47-4f6f-a7b4-2396ff0eb132"
   },
   "outputs": [
    {
     "name": "stdout",
     "output_type": "stream",
     "text": [
      "+-----------+--------------------+---------------+--------------------+\n",
      "|    user_id|               track|         artist|               album|\n",
      "+-----------+--------------------+---------------+--------------------+\n",
      "|000Silenced|           Price Tag|       Jessie J|         Who You Are|\n",
      "|000Silenced|Price Tag (Acoust...|       Jessie J|           Price Tag|\n",
      "|000Silenced|Be Mine! (Ballad ...|          Robyn|            Be Mine!|\n",
      "|000Silenced|            Acapella|          Kelis|            Acapella|\n",
      "|000Silenced|   I'm Not Invisible|      The Tease|   I'm Not Invisible|\n",
      "|000Silenced|Bounce (Feat NORE...|       MSTRKRFT|         Fist of God|\n",
      "|000Silenced|Don't Stop The Mu...|        Rihanna|Addicted 2 Bassli...|\n",
      "|000Silenced|               ObZen|      Meshuggah|               ObZen|\n",
      "|000Silenced|   Yama's Messengers|         Gojira|The Way of All Flesh|\n",
      "|000Silenced|On the Brink of E...|   Napalm Death|Time Waits For No...|\n",
      "|000Silenced|On the Brink of E...|   Napalm Death|Time Waits For No...|\n",
      "|000Silenced|        In Deference|   Napalm Death|      Smear Campaign|\n",
      "|000Silenced|      Post(?)organic|    Decapitated|Organic Hallucinosis|\n",
      "|000Silenced|        Mind Feeders|   Dom & Roland| No Strings Attached|\n",
      "|000Silenced|Necrosadistic War...|Cannibal Corpse|                Kill|\n",
      "|000Silenced|     Dance All Night|   Dom & Roland|          Chronology|\n",
      "|000Silenced|          Late Night|   Dom & Roland|          Chronology|\n",
      "|000Silenced|          Freak Seen|   Dom & Roland|          Chronology|\n",
      "|000Silenced|Paradrenasite (Hi...|   Dom & Roland|          Chronology|\n",
      "|000Silenced|               Rhino|   Dom & Roland|          Chronology|\n",
      "+-----------+--------------------+---------------+--------------------+\n",
      "only showing top 20 rows\n",
      "\n"
     ]
    }
   ],
   "source": [
    "df_listenings = df_listenings.drop('date')\n",
    "df_listenings.show()"
   ]
  },
  {
   "cell_type": "code",
   "execution_count": null,
   "metadata": {
    "colab": {
     "base_uri": "https://localhost:8080/"
    },
    "executionInfo": {
     "elapsed": 1457,
     "status": "ok",
     "timestamp": 1669217973171,
     "user": {
      "displayName": "Marc Smith",
      "userId": "16647642933336864558"
     },
     "user_tz": 240
    },
    "id": "N8luDo3HndTb",
    "outputId": "6fa6fb7a-3d89-474c-cb37-559a61cd8253"
   },
   "outputs": [
    {
     "name": "stdout",
     "output_type": "stream",
     "text": [
      "+-----------+--------------------+---------------+--------------------+\n",
      "|    user_id|               track|         artist|               album|\n",
      "+-----------+--------------------+---------------+--------------------+\n",
      "|000Silenced|           Price Tag|       Jessie J|         Who You Are|\n",
      "|000Silenced|Price Tag (Acoust...|       Jessie J|           Price Tag|\n",
      "|000Silenced|Be Mine! (Ballad ...|          Robyn|            Be Mine!|\n",
      "|000Silenced|            Acapella|          Kelis|            Acapella|\n",
      "|000Silenced|   I'm Not Invisible|      The Tease|   I'm Not Invisible|\n",
      "|000Silenced|Bounce (Feat NORE...|       MSTRKRFT|         Fist of God|\n",
      "|000Silenced|Don't Stop The Mu...|        Rihanna|Addicted 2 Bassli...|\n",
      "|000Silenced|               ObZen|      Meshuggah|               ObZen|\n",
      "|000Silenced|   Yama's Messengers|         Gojira|The Way of All Flesh|\n",
      "|000Silenced|On the Brink of E...|   Napalm Death|Time Waits For No...|\n",
      "|000Silenced|On the Brink of E...|   Napalm Death|Time Waits For No...|\n",
      "|000Silenced|        In Deference|   Napalm Death|      Smear Campaign|\n",
      "|000Silenced|      Post(?)organic|    Decapitated|Organic Hallucinosis|\n",
      "|000Silenced|        Mind Feeders|   Dom & Roland| No Strings Attached|\n",
      "|000Silenced|Necrosadistic War...|Cannibal Corpse|                Kill|\n",
      "|000Silenced|     Dance All Night|   Dom & Roland|          Chronology|\n",
      "|000Silenced|          Late Night|   Dom & Roland|          Chronology|\n",
      "|000Silenced|          Freak Seen|   Dom & Roland|          Chronology|\n",
      "|000Silenced|Paradrenasite (Hi...|   Dom & Roland|          Chronology|\n",
      "|000Silenced|               Rhino|   Dom & Roland|          Chronology|\n",
      "+-----------+--------------------+---------------+--------------------+\n",
      "only showing top 20 rows\n",
      "\n"
     ]
    }
   ],
   "source": [
    "df_listenings = df_listenings.na.drop()\n",
    "df_listenings.show()"
   ]
  },
  {
   "cell_type": "code",
   "execution_count": null,
   "metadata": {
    "colab": {
     "base_uri": "https://localhost:8080/"
    },
    "executionInfo": {
     "elapsed": 39978,
     "status": "ok",
     "timestamp": 1669212498899,
     "user": {
      "displayName": "Marc Smith",
      "userId": "16647642933336864558"
     },
     "user_tz": 240
    },
    "id": "WvlWW3Xav9-s",
    "outputId": "e96dbf26-3a01-496b-93ab-8dc4c5ef05bb"
   },
   "outputs": [
    {
     "name": "stdout",
     "output_type": "stream",
     "text": [
      "(13758905, 4)\n"
     ]
    }
   ],
   "source": [
    "rows_numbers = df_listenings.count()\n",
    "colum_numbers = len(df_listenings.columns)\n",
    "print(f'{rows_numbers, colum_numbers}')"
   ]
  },
  {
   "cell_type": "code",
   "execution_count": null,
   "metadata": {
    "colab": {
     "base_uri": "https://localhost:8080/"
    },
    "executionInfo": {
     "elapsed": 17444,
     "status": "ok",
     "timestamp": 1666879077153,
     "user": {
      "displayName": "Marc Smith",
      "userId": "16647642933336864558"
     },
     "user_tz": 240
    },
    "id": "-_LLq_BFu7tA",
    "outputId": "c5b5d6ca-619c-438f-9a21-a1b453eeb05c"
   },
   "outputs": [
    {
     "data": {
      "text/plain": [
       "13758905"
      ]
     },
     "execution_count": 15,
     "metadata": {},
     "output_type": "execute_result"
    }
   ],
   "source": [
    "df_listenings.count()"
   ]
  },
  {
   "cell_type": "code",
   "execution_count": null,
   "metadata": {
    "id": "5rDadwmpowII"
   },
   "outputs": [],
   "source": []
  },
  {
   "cell_type": "code",
   "execution_count": null,
   "metadata": {
    "id": "UZr0ZxOVIYr9"
   },
   "outputs": [],
   "source": []
  },
  {
   "cell_type": "markdown",
   "metadata": {
    "id": "cyf1XITGpMWV"
   },
   "source": [
    "\n",
    "# Let's Perform some aggregation\n",
    "to see how many times each user has listened to specific track\n"
   ]
  },
  {
   "cell_type": "code",
   "execution_count": null,
   "metadata": {
    "colab": {
     "base_uri": "https://localhost:8080/"
    },
    "executionInfo": {
     "elapsed": 78111,
     "status": "ok",
     "timestamp": 1669218066449,
     "user": {
      "displayName": "Marc Smith",
      "userId": "16647642933336864558"
     },
     "user_tz": 240
    },
    "id": "PeH7vYKEoyWa",
    "outputId": "401b60d2-553b-4390-e6d9-1089389d3532"
   },
   "outputs": [
    {
     "name": "stdout",
     "output_type": "stream",
     "text": [
      "+-------+--------------------+-----+\n",
      "|user_id|               track|count|\n",
      "+-------+--------------------+-----+\n",
      "| --Seph|           So Lonely|    2|\n",
      "| --Seph|               Julia|    1|\n",
      "| --Seph|Every Direction I...|    2|\n",
      "| --Seph|        Window Blues|    1|\n",
      "| --Seph|In the Nothing of...|    2|\n",
      "| --Seph| The Riders of Rohan|    1|\n",
      "| --Seph|         If It Works|    1|\n",
      "| --Seph| Air on the G String|    1|\n",
      "| --Seph|Vestido Estampado...|    1|\n",
      "| --Seph|          Paris 2004|    7|\n",
      "| --Seph|Chelsea Hotel - L...|    1|\n",
      "| --Seph|          I Miss You|    1|\n",
      "| --Seph|Sunset Soon Forgo...|    1|\n",
      "| --Seph|   Barbados Carnival|    1|\n",
      "| --Seph|      Fragile Meadow|    1|\n",
      "| --Seph|       Phantom Pt II|    1|\n",
      "| --Seph| White Winter Hymnal|    3|\n",
      "| --Seph|Belina (Original ...|    1|\n",
      "| --Seph|   Summa for Strings|    1|\n",
      "| --Seph|Airplanes [feat H...|    1|\n",
      "| --Seph|               Leloo|    1|\n",
      "| --Seph|  California Waiting|    1|\n",
      "| --Seph|         The Embrace|    1|\n",
      "| --Seph|Virus (Luke Fair ...|    1|\n",
      "| --Seph|     The Way We Were|    1|\n",
      "| --Seph|       Life On Mars?|    1|\n",
      "| --Seph|Hungarian Dance No 5|    1|\n",
      "| --Seph|Hungarian Rhapsod...|    1|\n",
      "| --Seph|      Hour for magic|    2|\n",
      "| --Seph|              Monday|    1|\n",
      "+-------+--------------------+-----+\n",
      "only showing top 30 rows\n",
      "\n"
     ]
    }
   ],
   "source": [
    "#df_listenings_agg = df_listenings.select('user_id','track').groupby('user_id', 'track').agg(count('*').alias('count')).orderBy('user_id')\n",
    "df_listenings_agg = df_listenings.select('user_id', 'track').groupby('user_id', 'track').agg(count('*').alias('count')).orderBy('user_id')\n",
    "df_listenings_agg.show(30)"
   ]
  },
  {
   "cell_type": "code",
   "execution_count": null,
   "metadata": {
    "colab": {
     "base_uri": "https://localhost:8080/"
    },
    "executionInfo": {
     "elapsed": 59029,
     "status": "ok",
     "timestamp": 1669212622949,
     "user": {
      "displayName": "Marc Smith",
      "userId": "16647642933336864558"
     },
     "user_tz": 240
    },
    "id": "RhVz-SvapIyr",
    "outputId": "bcb73477-567f-459f-b1eb-7b1a6af99314"
   },
   "outputs": [
    {
     "name": "stdout",
     "output_type": "stream",
     "text": [
      "9930128 3\n"
     ]
    }
   ],
   "source": [
    "rows_numbers = df_listenings_agg.count()\n",
    "colum_numbers = len(df_listenings_agg.columns)\n",
    "print(rows_numbers, colum_numbers)"
   ]
  },
  {
   "cell_type": "code",
   "execution_count": null,
   "metadata": {
    "id": "KsTXVsO7I7Jw"
   },
   "outputs": [],
   "source": []
  },
  {
   "cell_type": "code",
   "execution_count": null,
   "metadata": {
    "id": "qPOljgkT1gvR"
   },
   "outputs": [],
   "source": [
    "df_listenings_agg = df_listenings_agg.limit(20000)"
   ]
  },
  {
   "cell_type": "markdown",
   "metadata": {
    "id": "vuebvg7UqzsO"
   },
   "source": [
    "# Let's convert the user id and track columns into unique integers\n",
    "\n",
    "\n"
   ]
  },
  {
   "cell_type": "code",
   "execution_count": null,
   "metadata": {
    "colab": {
     "base_uri": "https://localhost:8080/"
    },
    "executionInfo": {
     "elapsed": 178144,
     "status": "ok",
     "timestamp": 1669218250220,
     "user": {
      "displayName": "Marc Smith",
      "userId": "16647642933336864558"
     },
     "user_tz": 240
    },
    "id": "F9RSpj3DN6aX",
    "outputId": "971efdca-93fb-408b-c428-a0539863754f"
   },
   "outputs": [
    {
     "name": "stdout",
     "output_type": "stream",
     "text": [
      "+-------+--------------------+-----+-------------+-----------+\n",
      "|user_id|               track|count|user_id_index|track_index|\n",
      "+-------+--------------------+-----+-------------+-----------+\n",
      "| --Seph| White Winter Hymnal|    3|         69.0|       59.0|\n",
      "| --Seph|Virus (Luke Fair ...|    1|         69.0|    15896.0|\n",
      "| --Seph|Airplanes [feat H...|    1|         69.0|      519.0|\n",
      "| --Seph|Belina (Original ...|    1|         69.0|     3278.0|\n",
      "| --Seph|              Monday|    1|         69.0|      334.0|\n",
      "| --Seph|Hungarian Dance No 5|    1|         69.0|     7558.0|\n",
      "| --Seph|       Life On Mars?|    1|         69.0|     1161.0|\n",
      "| --Seph|  California Waiting|    1|         69.0|      197.0|\n",
      "| --Seph|       Phantom Pt II|    1|         69.0|     1377.0|\n",
      "| --Seph|   Summa for Strings|    1|         69.0|    13739.0|\n",
      "| --Seph|      Hour for magic|    2|         69.0|     7495.0|\n",
      "| --Seph|Hungarian Rhapsod...|    1|         69.0|     7559.0|\n",
      "| --Seph|     The Way We Were|    1|         69.0|    14960.0|\n",
      "| --Seph| Air on the G String|    1|         69.0|     2455.0|\n",
      "| --Seph|Vestido Estampado...|    1|         69.0|    15850.0|\n",
      "| --Seph|        Window Blues|    1|         69.0|     1840.0|\n",
      "| --Seph|               Leloo|    1|         69.0|     9057.0|\n",
      "| --Seph|         The Embrace|    1|         69.0|    14387.0|\n",
      "| --Seph|          Paris 2004|    7|         69.0|    11313.0|\n",
      "| --Seph|Chelsea Hotel - L...|    1|         69.0|     4183.0|\n",
      "+-------+--------------------+-----+-------------+-----------+\n",
      "only showing top 20 rows\n",
      "\n"
     ]
    }
   ],
   "source": [
    "# indexer = [StringIndexer(inputCol=col, outputCol=col+'_index').fit(df_listenings_agg) for col in list(set(df_listenings_agg.columns) - set(['count']))]\n",
    "# pipeline = Pipeline(stages=indexer)\n",
    "# data = pipeline.fit(df_listenings_agg).transform(df_listenings_agg)\n",
    "# data.show()\n",
    "\n",
    "\n",
    "indexer = [StringIndexer(inputCol=col, outputCol=col+'_index').fit(df_listenings_agg) for col in list(set(df_listenings_agg.columns) - set(['count']))]\n",
    "pipeline = Pipeline(stages=indexer)\n",
    "data = pipeline.fit(df_listenings_agg).transform(df_listenings_agg)\n",
    "data.show()"
   ]
  },
  {
   "cell_type": "code",
   "execution_count": null,
   "metadata": {
    "colab": {
     "base_uri": "https://localhost:8080/"
    },
    "executionInfo": {
     "elapsed": 60220,
     "status": "ok",
     "timestamp": 1669218319487,
     "user": {
      "displayName": "Marc Smith",
      "userId": "16647642933336864558"
     },
     "user_tz": 240
    },
    "id": "efL-hiR-q-AO",
    "outputId": "655fc56f-8923-4795-aa34-bad1d45a49b3"
   },
   "outputs": [
    {
     "name": "stdout",
     "output_type": "stream",
     "text": [
      "+-------------+-----------+-----+\n",
      "|user_id_index|track_index|count|\n",
      "+-------------+-----------+-----+\n",
      "|         69.0|       59.0|    3|\n",
      "|         69.0|    15896.0|    1|\n",
      "|         69.0|      519.0|    1|\n",
      "|         69.0|     3278.0|    1|\n",
      "|         69.0|      334.0|    1|\n",
      "|         69.0|     7558.0|    1|\n",
      "|         69.0|     1161.0|    1|\n",
      "|         69.0|      197.0|    1|\n",
      "|         69.0|     1377.0|    1|\n",
      "|         69.0|    13739.0|    1|\n",
      "|         69.0|     7495.0|    2|\n",
      "|         69.0|     7559.0|    1|\n",
      "|         69.0|    14960.0|    1|\n",
      "|         69.0|     2455.0|    1|\n",
      "|         69.0|    15850.0|    1|\n",
      "|         69.0|     1840.0|    1|\n",
      "|         69.0|     9057.0|    1|\n",
      "|         69.0|    14387.0|    1|\n",
      "|         69.0|    11313.0|    7|\n",
      "|         69.0|     4183.0|    1|\n",
      "+-------------+-----------+-----+\n",
      "only showing top 20 rows\n",
      "\n"
     ]
    }
   ],
   "source": [
    "new_data = data.select('user_id_index', 'track_index', 'count')\n",
    "#data = data.select('user_id_index', 'track_index', 'count').orderBy('user_id_index')\n",
    "# data = data.select('user_id_index','track_index', 'count').orderBy('user_id_index')\n",
    "new_data.na.drop()\n",
    "new_data.show()"
   ]
  },
  {
   "cell_type": "markdown",
   "metadata": {
    "id": "IEwviAxXsHwN"
   },
   "source": [
    "# Train and Test data"
   ]
  },
  {
   "cell_type": "code",
   "execution_count": null,
   "metadata": {
    "id": "DRgu2p-PsYUw"
   },
   "outputs": [],
   "source": [
    "(training, test) = new_data.randomSplit([0.5,0.5])"
   ]
  },
  {
   "cell_type": "markdown",
   "metadata": {
    "id": "M46wV6Gusdi5"
   },
   "source": [
    "# Let's Create our Model"
   ]
  },
  {
   "cell_type": "code",
   "execution_count": null,
   "metadata": {
    "id": "bwPk25M3sfRu"
   },
   "outputs": [],
   "source": [
    "USERID = 'user_id_index'\n",
    "TRACK = 'track_index'\n",
    "COUNT = 'count'\n",
    "\n",
    "als = ALS(maxIter=5, regParam=0.01, userCol=USERID, itemCol=TRACK, ratingCol=COUNT)\n",
    "model = als.fit(training)\n",
    "\n",
    "predications = model.transform(test)\n",
    "\n",
    "# USERID = 'user_id_index'\n",
    "# TRACK = 'track_index'\n",
    "# COUNT = 'count'\n",
    "\n",
    "# als = ALS(maxIter=5, regParam=0.01 , userCol=abs(USERID), itemCol=TRACK, ratingCol=COUNT)\n",
    "# model = als.fit(training)\n",
    "\n",
    "# predications = model.transform(test)"
   ]
  },
  {
   "cell_type": "markdown",
   "metadata": {
    "id": "lqBkLowzsoj8"
   },
   "source": [
    "\n",
    "# Generate top 10 Track recommendations for each user"
   ]
  },
  {
   "cell_type": "code",
   "execution_count": null,
   "metadata": {
    "id": "00mtv7XUsZGg"
   },
   "outputs": [],
   "source": [
    "recs = model.recommendForAllUsers(10)"
   ]
  },
  {
   "cell_type": "code",
   "execution_count": null,
   "metadata": {
    "colab": {
     "base_uri": "https://localhost:8080/"
    },
    "executionInfo": {
     "elapsed": 9691,
     "status": "ok",
     "timestamp": 1669220492711,
     "user": {
      "displayName": "Marc Smith",
      "userId": "16647642933336864558"
     },
     "user_tz": 240
    },
    "id": "_EQnSUh3ncar",
    "outputId": "aae93a36-903a-43f1-f84d-f1d1dbc865ee"
   },
   "outputs": [
    {
     "name": "stdout",
     "output_type": "stream",
     "text": [
      "+-------------+--------------------+\n",
      "|user_id_index|     recommendations|\n",
      "+-------------+--------------------+\n",
      "|           31|[[1688, 7.8548727...|\n",
      "|           85|[[568, 11.067766]...|\n",
      "|          137|[[7849, 8.964636]...|\n",
      "|           65|[[3343, 9.272263]...|\n",
      "|           53|[[102, 8.618941],...|\n",
      "|          133|[[7849, 17.996504...|\n",
      "|           78|[[7849, 9.730888]...|\n",
      "|          108|[[16969, 9.657956...|\n",
      "|           34|[[5823, 6.2077866...|\n",
      "|          101|[[954, 10.055234]...|\n",
      "|          115|[[1738, 10.40938]...|\n",
      "|          126|[[568, 13.990456]...|\n",
      "|           81|[[7849, 10.934342...|\n",
      "|           28|[[12892, 8.42659]...|\n",
      "|           76|[[7849, 11.532579...|\n",
      "|           26|[[1738, 8.236904]...|\n",
      "|           27|[[177, 9.972997],...|\n",
      "|           44|[[12892, 8.847261...|\n",
      "|          103|[[954, 11.618872]...|\n",
      "|           12|[[102, 7.1663237]...|\n",
      "+-------------+--------------------+\n",
      "only showing top 20 rows\n",
      "\n"
     ]
    }
   ],
   "source": [
    "recs.show()"
   ]
  },
  {
   "cell_type": "code",
   "execution_count": null,
   "metadata": {
    "colab": {
     "base_uri": "https://localhost:8080/"
    },
    "executionInfo": {
     "elapsed": 7015,
     "status": "ok",
     "timestamp": 1669220523363,
     "user": {
      "displayName": "Marc Smith",
      "userId": "16647642933336864558"
     },
     "user_tz": 240
    },
    "id": "stUaAoKpTgqT",
    "outputId": "3ad57cef-d8f5-49e2-9a86-874e8ec19c0e"
   },
   "outputs": [
    {
     "data": {
      "text/plain": [
       "[Row(user_id_index=31, recommendations=[Row(track_index=1688, rating=7.854872703552246), Row(track_index=15453, rating=7.547242641448975), Row(track_index=954, rating=6.902073383331299), Row(track_index=568, rating=6.883672714233398), Row(track_index=273, rating=6.391982078552246), Row(track_index=123, rating=6.133982181549072), Row(track_index=113, rating=5.981383323669434), Row(track_index=14108, rating=5.929976463317871), Row(track_index=9323, rating=5.768881320953369), Row(track_index=15776, rating=5.364698886871338)])]"
      ]
     },
     "execution_count": 16,
     "metadata": {},
     "output_type": "execute_result"
    }
   ],
   "source": [
    "recs.take(1)"
   ]
  },
  {
   "cell_type": "code",
   "execution_count": null,
   "metadata": {
    "id": "ElnHUJRWS77y"
   },
   "outputs": [],
   "source": []
  }
 ],
 "metadata": {
  "colab": {
   "provenance": []
  },
  "kernelspec": {
   "display_name": "Python 3",
   "language": "python",
   "name": "python3"
  },
  "language_info": {
   "codemirror_mode": {
    "name": "ipython",
    "version": 3
   },
   "file_extension": ".py",
   "mimetype": "text/x-python",
   "name": "python",
   "nbconvert_exporter": "python",
   "pygments_lexer": "ipython3",
   "version": "3.8.5"
  }
 },
 "nbformat": 4,
 "nbformat_minor": 1
}
